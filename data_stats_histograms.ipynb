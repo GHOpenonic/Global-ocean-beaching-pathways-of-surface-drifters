{
 "cells": [
  {
   "cell_type": "markdown",
   "id": "f24e8b87-3c7b-4b1c-b724-dffad19746c1",
   "metadata": {},
   "source": [
    "In this notebook, we calculate the number of trajectories that beach and don't beach, the percent of drifters that beach within a year, and generate histograms of undrogued time to beach and trajectory lengths."
   ]
  },
  {
   "cell_type": "code",
   "execution_count": 1,
   "id": "36551548-8b19-4fd8-b8b6-a0fcf377e2c1",
   "metadata": {},
   "outputs": [],
   "source": [
    "# set working directory\n",
    "import os\n",
    "os.chdir('/dat1/openonic/Drifters')"
   ]
  },
  {
   "cell_type": "code",
   "execution_count": 2,
   "id": "2f3c46a0-b5e2-41ff-ac4d-5a8985423dc0",
   "metadata": {},
   "outputs": [],
   "source": [
    "# dependencies\n",
    "import numpy as np\n",
    "import pandas as pd\n",
    "\n",
    "import matplotlib.pyplot as plt\n",
    "import seaborn as sns"
   ]
  },
  {
   "cell_type": "code",
   "execution_count": 3,
   "id": "1e1b3ef3-1056-47a1-b63c-0ecd75ddd30b",
   "metadata": {},
   "outputs": [],
   "source": [
    "# set plotting text size parameters\n",
    "plt.rcParams.update({\n",
    "    'axes.titlesize': 30,\n",
    "    'axes.labelsize': 24, \n",
    "    'xtick.labelsize': 18,  \n",
    "    'ytick.labelsize': 18,  \n",
    "    'legend.fontsize': 18, \n",
    "    'figure.titlesize': 28})"
   ]
  },
  {
   "cell_type": "code",
   "execution_count": 4,
   "id": "fa43a1ce-063a-40ce-8daa-3b1dbc8452d6",
   "metadata": {},
   "outputs": [],
   "source": [
    "# load drifter data\n",
    "beach_undrogued = pd.read_csv('undrogued_beach.csv')\n",
    "unbeach_undrogued = pd.read_csv('undrogued_unbeach.csv')"
   ]
  },
  {
   "cell_type": "code",
   "execution_count": 5,
   "id": "a4ee34f8-91f6-4693-8a2f-1706705d80ae",
   "metadata": {},
   "outputs": [
    {
     "name": "stdout",
     "output_type": "stream",
     "text": [
      "number of undrogued beaching trajectories: 4252\n",
      "number of undrogued nonbeaching trajectories: 11803\n"
     ]
    }
   ],
   "source": [
    "print(f\"number of undrogued beaching trajectories: {len(beach_undrogued.drop_duplicates(subset='id', keep='last'))}\")\n",
    "print(f\"number of undrogued nonbeaching trajectories: {len(unbeach_undrogued.drop_duplicates(subset='id', keep='last'))}\")"
   ]
  },
  {
   "cell_type": "code",
   "execution_count": 6,
   "id": "c07be524-d0b2-42d9-8af0-75465cea8cf7",
   "metadata": {},
   "outputs": [
    {
     "name": "stdout",
     "output_type": "stream",
     "text": [
      "75% of beaching drifters beach within 11.6 months of losing their drogue.\n",
      "20% of all drifters beach within 11.9 months of losing their drogue.\n"
     ]
    }
   ],
   "source": [
    "unique_drift=beach_undrogued.drop_duplicates(subset='id',keep='first')\n",
    "\n",
    "df_sorted = unique_drift.sort_values(by='time_to_beach')\n",
    "\n",
    "# Calculate the cumulative count and the percentage\n",
    "df_sorted['cumulative_count'] = range(1, len(df_sorted) + 1)\n",
    "total_count = df_sorted['cumulative_count'].iloc[-1]\n",
    "df_sorted['cumulative_percentage'] = df_sorted['cumulative_count'] / total_count * 100\n",
    "\n",
    "# Find the largest 'time_to_beach' where the cumulative percentage is more than 75%\n",
    "most_time = df_sorted[df_sorted['cumulative_percentage'] >= 75]['time_to_beach'].iloc[0]\n",
    "\n",
    "print(f\"75% of beaching drifters beach within {round(most_time / 60/ 60 /24 /30,1)} months of losing their drogue.\")\n",
    "\n",
    "# including all drifters\n",
    "total_count = total_count + len(unbeach_undrogued.drop_duplicates(subset='id', keep='last'))\n",
    "df_sorted['cumulative_percentage'] = df_sorted['cumulative_count'] / total_count * 100\n",
    "most_time = df_sorted[df_sorted['cumulative_percentage'] >= 20]['time_to_beach'].iloc[0]\n",
    "\n",
    "print(f\"20% of all drifters beach within {round(most_time / 60/ 60 /24 /30,1)} months of losing their drogue.\")"
   ]
  },
  {
   "cell_type": "code",
   "execution_count": 7,
   "id": "01252748-4c9c-4c22-99c9-8d8ebf0a3014",
   "metadata": {},
   "outputs": [
    {
     "data": {
      "image/png": "[encoded data removed]",
      "text/plain": [
       "<Figure size 576x360 with 1 Axes>"
      ]
     },
     "metadata": {
      "needs_background": "light"
     },
     "output_type": "display_data"
    }
   ],
   "source": [
    "# histogram of time to beach by trajectory\n",
    "plt.figure(figsize=(8, 5))\n",
    "sns.histplot(round(unique_drift['time_to_beach'] / 60/ 60 /24 /30,1), bins=40, color=\"royalblue\")\n",
    "\n",
    "plt.xlim(0,50)\n",
    "plt.xlabel(\"Time to Beach (Months)\")\n",
    "plt.ylabel(\"Trajectories\")\n",
    "\n",
    "plt.show()"
   ]
  },
  {
   "cell_type": "code",
   "execution_count": 8,
   "id": "83f5ba18-2fe5-4e3d-a8ba-37f6bfec3504",
   "metadata": {},
   "outputs": [],
   "source": [
    "# calculate trajectory lengths, where net travel is the distance from the starting\n",
    "# location to the final location, and gross travel is the sum of distances between \n",
    "# each point making up the the trajectory (hourly).\n",
    "# first we define the haversine function to calculate great circle distances:\n",
    "def haversine(lat1, lon1, lat2, lon2):\n",
    "    earth_radius = 6378\n",
    "    \n",
    "    # convert to radians\n",
    "    lat1, lon1, lat2, lon2 = map(np.radians, [lat1,lon1,lat2,lon2])\n",
    "   \n",
    "    # calculate differences\n",
    "    dif_lat = lat2 - lat1\n",
    "    dif_lon = lon2 - lon1\n",
    "    \n",
    "    # compute haversine distance\n",
    "    distance_representation = np.sin(dif_lat / 2.0) ** 2 + np.cos(lat1) * np.cos(lat2) * np.sin(dif_lon / 2.0) ** 2\n",
    "    angular_distance = 2 * np.arctan2(np.sqrt(distance_representation), np.sqrt(1 - distance_representation))\n",
    "    \n",
    "    return earth_radius * angular_distance\n",
    "\n",
    "def calc_traj_lengths(dataframe):\n",
    "    outputs = []\n",
    "    # by trajectory group:\n",
    "    for trajectory_id, group in dataframe.groupby('id'):\n",
    "        \n",
    "        # calculate arrays for lat and lon\n",
    "        lat, lon = group['lat'].values, group['lon'].values\n",
    "        \n",
    "        # calculate net distance with first and last coordinates\n",
    "        net_distance = haversine(lat[0], lon[0], lat[-1], lon[-1])\n",
    "        \n",
    "        # sum the distances moved hourly\n",
    "        gross_distance = np.sum(haversine(lat[:-1], lon[:-1], lat[1:], lon[1:]))\n",
    "        \n",
    "        outputs.append(({'id':trajectory_id,'net_distance': net_distance, 'gross_distance': gross_distance}))\n",
    "    return pd.DataFrame(outputs)     "
   ]
  },
  {
   "cell_type": "code",
   "execution_count": null,
   "id": "abddf16c-0e41-49d9-94da-ca10c4f13352",
   "metadata": {},
   "outputs": [],
   "source": [
    "beach_undrogued_distances = calc_traj_lengths(beach_undrogued)\n",
    "unbeach_undrogued_distances = calc_traj_lengths(unbeach_undrogued)"
   ]
  },
  {
   "cell_type": "code",
   "execution_count": null,
   "id": "7107e9a4-bde3-49d3-83d3-c8a7df420ddd",
   "metadata": {},
   "outputs": [],
   "source": [
    "# histogram of net trajectory lengths\n",
    "plt.figure(figsize=(8, 5))\n",
    "\n",
    "# unbeach\n",
    "sns.histplot(round(unbeach_undrogued_distances['net_distance'],1), bins=40, color=\"salmon\", label = 'unbeach')\n",
    "\n",
    "# beach\n",
    "sns.histplot(round(beach_undrogued_distances['net_distance'],1), bins=40, color=\"royalblue\", label = 'beach')\n",
    "\n",
    "plt.xlim(0,10000)\n",
    "plt.xlabel(\"Net Distance (km)\")\n",
    "plt.ylabel(\"Trajectories\")\n",
    "plt.legend(loc = 'upper right')\n",
    "\n",
    "plt.show()"
   ]
  },
  {
   "cell_type": "code",
   "execution_count": null,
   "id": "30deeec4-77ad-4ad8-9666-043969140f91",
   "metadata": {},
   "outputs": [],
   "source": [
    "# histogram of gross trajectory lengths\n",
    "plt.figure(figsize=(8, 5))\n",
    "\n",
    "# unbeach\n",
    "sns.histplot(round(unbeach_undrogued_distances['gross_distance'],1), bins=40, color=\"salmon\", label = 'unbeach')\n",
    "\n",
    "# beach\n",
    "sns.histplot(round(beach_undrogued_distances['gross_distance'],1), bins=40, color=\"royalblue\", label = 'beach')\n",
    "\n",
    "plt.xlim(0,40000)\n",
    "plt.xlabel(\"Gross Distance (km)\")\n",
    "plt.ylabel(\"Trajectories\")\n",
    "plt.legend(loc = 'upper right')\n",
    "\n",
    "plt.xticks(rotation=45)\n",
    "\n",
    "plt.show()"
   ]
  },
  {
   "cell_type": "code",
   "execution_count": null,
   "id": "1b8af821-ee7d-416b-9d8c-2cdadcb14ebe",
   "metadata": {},
   "outputs": [],
   "source": []
  }
 ],
 "metadata": {
  "kernelspec": {
   "display_name": "Python 3",
   "language": "python",
   "name": "python3"
  },
  "language_info": {
   "codemirror_mode": {
    "name": "ipython",
    "version": 3
   },
   "file_extension": ".py",
   "mimetype": "text/x-python",
   "name": "python",
   "nbconvert_exporter": "python",
   "pygments_lexer": "ipython3",
   "version": "3.7.6"
  }
 },
 "nbformat": 4,
 "nbformat_minor": 5
}
