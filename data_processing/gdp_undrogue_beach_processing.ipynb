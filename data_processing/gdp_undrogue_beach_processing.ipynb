{
 "cells": [
  {
   "cell_type": "markdown",
   "id": "2482085c-ff4f-4648-8e3c-bf9776c36b1c",
   "metadata": {},
   "source": [
    "### This code removes drogued drifters by temporally selecting drifter data after the date they lost their drogue. Next, it separates ultimately beaching drifters from never-beaching drifters and saves them to csv files"
   ]
  },
  {
   "cell_type": "code",
   "execution_count": 6,
   "id": "c0bd04fb-f4e1-4657-a3f3-2e6abf08cc58",
   "metadata": {},
   "outputs": [],
   "source": [
    "# set working directory\n",
    "import os\n",
    "os.chdir('/dat1/openonic/Drifters') # directory"
   ]
  },
  {
   "cell_type": "code",
   "execution_count": 7,
   "id": "e8b3d314-800e-4b79-b355-1fb27f040169",
   "metadata": {},
   "outputs": [],
   "source": [
    "# dependencies\n",
    "import pandas as pd\n",
    "import numpy as np\n",
    "import matplotlib.pyplot as plt\n",
    "import xarray as xr"
   ]
  },
  {
   "cell_type": "code",
   "execution_count": 8,
   "id": "7d40c560-af93-4bdf-b54c-b6cdb312e5f5",
   "metadata": {},
   "outputs": [],
   "source": [
    "# load file\n",
    "gdp = xr.open_dataset('gdp.nc', decode_times=False)"
   ]
  },
  {
   "cell_type": "code",
   "execution_count": 4,
   "id": "72c29c26-7ebb-4339-9dad-19070af0a0f9",
   "metadata": {},
   "outputs": [],
   "source": [
    "import time\n",
    "# set up returned dataframe\n",
    "variables = ['id', 'time', 'lat', 'lon', 've', 'vn'] \n",
    "data_list = []\n",
    "\n",
    "# extract values\n",
    "ids = gdp.ids.values\n",
    "times = gdp.time.values\n",
    "lats = gdp.latitude.values\n",
    "lons = gdp.longitude.values\n",
    "ves = gdp.ve.values\n",
    "vns = gdp.vn.values"
   ]
  },
  {
   "cell_type": "code",
   "execution_count": 5,
   "id": "6092c2c0-7153-47f1-9c23-447eecfb3371",
   "metadata": {},
   "outputs": [
    {
     "name": "stdout",
     "output_type": "stream",
     "text": [
      "Elapsed time: 498.8266108036041 seconds\n"
     ]
    }
   ],
   "source": [
    "# extract values and set to pandas dataframe\n",
    "start_time = time.time()\n",
    "data_list = [\n",
    "    {'id': i, 'time': time, 'lat': lat, 'lon': lon, 've': ve, 'vn': vn}\n",
    "    for i, time, lat, lon, ve, vn in zip(ids, times, lats, lons, ves, vns)\n",
    "]\n",
    "\n",
    "full_data = pd.DataFrame(data_list, columns=variables)\n",
    "\n",
    "end_time = time.time()\n",
    "\n",
    "elapsed_time = end_time - start_time\n",
    "\n",
    "print(f\"Elapsed time: {elapsed_time} seconds\")"
   ]
  },
  {
   "cell_type": "code",
   "execution_count": 6,
   "id": "a9cd6d00-7234-492f-bb96-abd5423c42c5",
   "metadata": {},
   "outputs": [],
   "source": [
    "beach_ids = []\n",
    "unbeach_ids = []\n",
    "\n",
    "for i in range(len(gdp.type_death)):\n",
    "    if gdp.type_death[i].item() == 1:\n",
    "        beach_ids.append(gdp.ID[i].item())\n",
    "    else:\n",
    "        unbeach_ids.append(gdp.ID[i].item())"
   ]
  },
  {
   "cell_type": "code",
   "execution_count": 7,
   "id": "2a59abe3-70fe-4b53-92dd-9afe7778c669",
   "metadata": {},
   "outputs": [],
   "source": [
    "beach_full = full_data[full_data['id'].isin(beach_ids)] # get all ids that beached\n",
    "unbeach_full = full_data[full_data['id'].isin(unbeach_ids)] # get all ids that didn't beach"
   ]
  },
  {
   "cell_type": "code",
   "execution_count": 8,
   "id": "1ed621fe-d51b-474f-8d64-ddbc316320ec",
   "metadata": {},
   "outputs": [],
   "source": [
    "min_time = gdp.drogue_lost_date.values # get time of drogue lost\n",
    "min_ID = gdp.drogue_lost_date.coords['ID'].values # get ids of drogue lost\n",
    "min_time_df = pd.DataFrame({'min_time': min_time, 'id': min_ID}) # put them in a DF together\n",
    "beach_min_time = min_time_df[min_time_df['id'].isin(beach_ids)] # separate into beached\n",
    "unbeach_min_time = min_time_df[min_time_df['id'].isin(unbeach_ids)] # and unbeached"
   ]
  },
  {
   "cell_type": "code",
   "execution_count": 9,
   "id": "748d65b9-7e57-4a17-b784-e8b2c0970693",
   "metadata": {},
   "outputs": [],
   "source": [
    "# beached\n",
    "merged_beach = pd.merge(beach_full, beach_min_time, left_on='id', right_on='id', how='inner')\n",
    "\n",
    "# remove drogued values using time of drogue loss\n",
    "undrogued_beach_ = merged_beach[merged_beach['time'] >= merged_beach['min_time']]\n",
    "\n",
    "# remove drogue loss time from df\n",
    "undrogued_beach = undrogued_beach_.drop(columns=['min_time'])"
   ]
  },
  {
   "cell_type": "code",
   "execution_count": 10,
   "id": "2548f0fe-6cc5-4889-8bbe-c22bbd3c3831",
   "metadata": {},
   "outputs": [],
   "source": [
    "# unbeached\n",
    "merged_unbeach = pd.merge(unbeach_full, unbeach_min_time, left_on='id', right_on='id', how='inner')\n",
    "\n",
    "# remove drogued values using time of drogue loss\n",
    "undrogued_unbeach_ = merged_unbeach[merged_unbeach['time'] >= merged_unbeach['min_time']]\n",
    "\n",
    "# remove drogue loss time from df\n",
    "undrogued_unbeach = undrogued_unbeach_.drop(columns=['min_time'])"
   ]
  },
  {
   "cell_type": "code",
   "execution_count": 15,
   "id": "34dd4b02-5e22-4eb1-aa9f-5e239996b6fb",
   "metadata": {},
   "outputs": [],
   "source": [
    "# add column to undrogued_beach 'time to beach'\n",
    "\n",
    "\n",
    "# get the last time values of beached\n",
    "last_points = undrogued_beach.drop_duplicates(subset='id', keep='last')\n",
    "\n",
    "def find_time_to_beach(beach, beach_last,time_between_register_beaching_and_actually_beaching):\n",
    "    # DF to Numpy Arrays\n",
    "    beach_array = beach.to_numpy()\n",
    "    beach_last_array = beach_last.to_numpy()\n",
    "\n",
    "    # Create a dictionary to store the last known time for each ID\n",
    "    last_time_dict = dict(zip(beach_last_array[:, 0], beach_last_array[:, 1]))\n",
    "\n",
    "    beach_time = []\n",
    "\n",
    "    # Iterate through beach array and calculate time differences\n",
    "    for row in beach_array:\n",
    "        current_ID = row[0]\n",
    "        last_time = last_time_dict.get(current_ID, None)\n",
    "        \n",
    "        if last_time is not None:\n",
    "            current_time = row[1]\n",
    "            if current_time != last_time: # prevent 0 value --> infinite time as beach_last exists within beach\n",
    "                time_difference = last_time - current_time\n",
    "                beach_time.append(time_difference)\n",
    "            if current_time == last_time: # keep lat, lon, and values for hist shape the same\n",
    "                beach_time.append(time_between_register_beaching_and_actually_beaching)\n",
    "\n",
    "    return beach_time\n",
    "\n",
    "time_between_register_beaching_and_actually_beaching = 0 # immediate beaching (?)\n",
    "\n",
    "beach_time = find_time_to_beach(undrogued_beach, last_points, time_between_register_beaching_and_actually_beaching)"
   ]
  },
  {
   "cell_type": "code",
   "execution_count": 19,
   "id": "fcbe7be3-19f1-43f5-9064-9588848821e4",
   "metadata": {
    "tags": []
   },
   "outputs": [],
   "source": [
    "undrogued_beach['time_to_beach'] = beach_time"
   ]
  },
  {
   "cell_type": "code",
   "execution_count": 23,
   "id": "973ffcdf-d90a-4263-a968-a3e3cdb4a73e",
   "metadata": {},
   "outputs": [],
   "source": [
    "undrogued_unbeach.to_csv('undrogued_unbeach.csv', index=False) # save to csv"
   ]
  },
  {
   "cell_type": "code",
   "execution_count": 24,
   "id": "9295ee7f-1719-469c-a774-61670dbe9eb5",
   "metadata": {},
   "outputs": [],
   "source": [
    "undrogued_beach.to_csv('undrogued_beach.csv', index=False) # save to csv"
   ]
  },
  {
   "cell_type": "code",
   "execution_count": null,
   "id": "20dff8c4-70c1-4109-a3e1-bd16bd779534",
   "metadata": {},
   "outputs": [],
   "source": []
  }
 ],
 "metadata": {
  "kernelspec": {
   "display_name": "Python 3",
   "language": "python",
   "name": "python3"
  },
  "language_info": {
   "codemirror_mode": {
    "name": "ipython",
    "version": 3
   },
   "file_extension": ".py",
   "mimetype": "text/x-python",
   "name": "python",
   "nbconvert_exporter": "python",
   "pygments_lexer": "ipython3",
   "version": "3.7.6"
  }
 },
 "nbformat": 4,
 "nbformat_minor": 5
}
