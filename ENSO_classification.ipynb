{
 "cells": [
  {
   "cell_type": "markdown",
   "id": "a799c05a-0611-49eb-a14b-57b8547ab7c9",
   "metadata": {},
   "source": [
    "# This notebook:\n",
    "### Classifies each drifter point into ENSO state"
   ]
  },
  {
   "cell_type": "code",
   "execution_count": 1,
   "id": "9a3fdba1-bcb2-45ce-b27c-c6d400d80d46",
   "metadata": {},
   "outputs": [],
   "source": [
    "# set working directory\n",
    "import os\n",
    "os.chdir('/dat1/openonic/Drifters') # directory"
   ]
  },
  {
   "cell_type": "code",
   "execution_count": 2,
   "id": "25b7797c-ace3-4dd4-8cc3-91d93ce2bcd0",
   "metadata": {},
   "outputs": [],
   "source": [
    "# dependencies\n",
    "import pandas as pd\n",
    "import scipy.interpolate as sci_int\n",
    "import numpy as np\n",
    "import matplotlib.pyplot as plt\n",
    "import scipy.stats as sci_stats\n",
    "import cartopy.crs as ccrs\n",
    "import geopandas as gpd\n",
    "\n",
    "import matplotlib.colors as mcolors\n",
    "plt.rcParams.update({'font.size': 18})\n",
    "\n",
    "plt.rcParams['axes.titlesize'] = 24\n",
    "plt.rcParams['axes.labelsize'] = 22\n",
    "plt.rcParams['axes.labelsize'] = 22"
   ]
  },
  {
   "cell_type": "code",
   "execution_count": 3,
   "id": "66fc20e3-4fd6-497e-aef7-e15e841fce18",
   "metadata": {},
   "outputs": [],
   "source": [
    "# import undrogued data\n",
    "beach = pd.read_csv('undrogued_beach.csv')\n",
    "unbeach = pd.read_csv('undrogued_unbeach.csv')"
   ]
  },
  {
   "cell_type": "markdown",
   "id": "ad289d36-1e97-44a5-b04d-42d0fbef64d1",
   "metadata": {},
   "source": [
    "## Let's look at ENSO state oscillations:\n",
    "##### from https://psl.noaa.gov/enso/mei/"
   ]
  },
  {
   "cell_type": "code",
   "execution_count": 4,
   "id": "687ae14b-f9c5-4f5f-8dfa-0a0c490ec05b",
   "metadata": {},
   "outputs": [
    {
     "data": {
      "text/plain": [
       "Text(0.5, 1.0, 'ENSO Index by year')"
      ]
     },
     "execution_count": 4,
     "metadata": {},
     "output_type": "execute_result"
    },
    {
     "data": {
      "image/png": "[encoded data removed]",
      "text/plain": [
       "<Figure size 1152x576 with 1 Axes>"
      ]
     },
     "metadata": {
      "needs_background": "light"
     },
     "output_type": "display_data"
    }
   ],
   "source": [
    "enso_states = pd.read_excel('enso_states.xlsx') # access excel file\n",
    "enso_states_reshaped = (enso_states.iloc[:, 1:].values).reshape(-1) # reshape index values into array\n",
    "\n",
    "enso_time_reshaped = (enso_states.iloc[:, 0].values) # reshape time values into array\n",
    "enso_time_decimal_year = np.linspace(enso_time_reshaped[0], enso_time_reshaped[-1], len(enso_states_reshaped)) # range of decimal years\n",
    "\n",
    "\n",
    "colors = ['red' if val > 0 else 'blue' for val in enso_states_reshaped] # assign colors\n",
    "# Plot the values\n",
    "plt.figure(figsize=(16, 8))\n",
    "plt.bar(enso_time_decimal_year, enso_states_reshaped, color=colors, width = 0.1)\n",
    "\n",
    "# Add labels and title\n",
    "plt.xlabel('Year')\n",
    "plt.ylabel('ENSO Index')\n",
    "plt.title('ENSO Index by year')"
   ]
  },
  {
   "cell_type": "markdown",
   "id": "36116c9d-d97e-44b6-b2b6-16db419c0500",
   "metadata": {},
   "source": [
    "## Now, let's split the data into either El Nino or La Nina"
   ]
  },
  {
   "cell_type": "code",
   "execution_count": 5,
   "id": "9ac29737-3ebd-4f60-be12-f61e49944cc8",
   "metadata": {},
   "outputs": [],
   "source": [
    "# separate ENSO years into el nino and la nina based on ENSO index value and save in seconds since 1970\n",
    "el_nino_years = [enso_time_decimal_year[index] for index, val in enumerate(enso_states_reshaped) if val >= 0]\n",
    "la_nina_years = [enso_time_decimal_year[index] for index, val in enumerate(enso_states_reshaped) if val < 0]\n",
    "\n",
    "# convert years into seconds since 1970\n",
    "seconds_per_year = 60 * 60 * 24 * 365 \n",
    "la_nina_seconds = [(year - 1970) * seconds_per_year for year in la_nina_years]\n",
    "el_nino_seconds = [(year -1970) * seconds_per_year for year in el_nino_years]"
   ]
  },
  {
   "cell_type": "code",
   "execution_count": 195,
   "id": "7e8a860c-763d-4cc8-8b88-380e905d7cab",
   "metadata": {},
   "outputs": [
    {
     "data": {
      "text/plain": [
       "(1078531200.0, 1261857600.0)"
      ]
     },
     "execution_count": 195,
     "metadata": {},
     "output_type": "execute_result"
    },
    {
     "data": {
      "image/png": "[encoded data removed]",
      "text/plain": [
       "<Figure size 720x36 with 1 Axes>"
      ]
     },
     "metadata": {
      "needs_background": "light"
     },
     "output_type": "display_data"
    }
   ],
   "source": [
    "plt.figure(figsize=(10, 0.5))\n",
    "for year in el_nino_seconds:\n",
    "    plt.scatter(year, 1, color = 'b')\n",
    "    \n",
    "for year in la_nina_seconds:\n",
    "    plt.scatter(year, 1.1, color = 'r')\n",
    "plt.xlim((1078531200 , (1261857600 )))"
   ]
  },
  {
   "cell_type": "code",
   "execution_count": 66,
   "id": "a0efc739-d4e8-4121-b8e5-30f8dafae229",
   "metadata": {},
   "outputs": [],
   "source": [
    "# to assign whether a given chunk in time is el nino or la nina, we divide the min difference between two times by two and add/subtract \n",
    "# it to each timestamp value so as to make that timestamp value the 'middle' of the range. This let's us have a set\n",
    "# of time ranges of equal length either assigned as la nina or el nino, then we can break up each timestamp of actual \n",
    "# drifter data into el nino or la nina based on that set of time ranges"
   ]
  },
  {
   "cell_type": "code",
   "execution_count": 67,
   "id": "d45feb59-de04-4f46-9c3f-e5e5236b4aee",
   "metadata": {},
   "outputs": [],
   "source": [
    "#half_time_range = (la_nina_seconds[5] - el_nino_seconds[4]) / 2 # get half_time_range\n",
    "min_diff_el_nino = min(el_nino_seconds[i+1] - el_nino_seconds[i] for i in range(len(el_nino_seconds)-1))\n",
    "min_diff_la_nina = min(la_nina_seconds[i+1] - la_nina_seconds[i] for i in range(len(la_nina_seconds)-1))\n",
    "\n",
    "# Use the minimum difference to calculate the half_time_range\n",
    "half_time_range = min(min_diff_el_nino, min_diff_la_nina) / 2\n",
    "\n",
    "# calculate time ranges\n",
    "la_nina_time_range = [(timestamp - half_time_range, timestamp + half_time_range) for timestamp in la_nina_seconds]\n",
    "el_nino_time_range = [(timestamp - half_time_range, timestamp + half_time_range) for timestamp in el_nino_seconds]"
   ]
  },
  {
   "cell_type": "code",
   "execution_count": 206,
   "id": "826a439c-1192-4dc6-9cad-41d8838e12eb",
   "metadata": {},
   "outputs": [],
   "source": [
    "# let's classify each individual drifter timestamp as existing in el nino or la nina"
   ]
  },
  {
   "cell_type": "code",
   "execution_count": 212,
   "id": "df31c45d-1eec-4dc3-b867-fdb2c8846810",
   "metadata": {},
   "outputs": [],
   "source": [
    "# get all el nino and la nina times\n",
    "# beach\n",
    "el_nino_times_beach = np.logical_or.reduce([(start <= beach['time']) & (beach['time'] <= end) for start, end in el_nino_time_range])\n",
    "la_nina_times_beach = np.logical_or.reduce([(start <= beach['time']) & (beach['time'] <= end) for start, end in la_nina_time_range])\n",
    "\n",
    "# unbeach\n",
    "el_nino_times_unbeach = np.logical_or.reduce([(start <= unbeach['time']) & (unbeach['time'] <= end) for start, end in el_nino_time_range])\n",
    "la_nina_times_unbeach = np.logical_or.reduce([(start <= unbeach['time']) & (unbeach['time'] <= end) for start, end in la_nina_time_range])\n",
    "\n",
    "# add ENSO classification to beach dataframe\n",
    "beach['ENSO'] = np.where(la_nina_times_beach, 'la nina', np.where(el_nino_times_beach, 'el nino', 'none'))\n",
    "unbeach['ENSO'] = np.where(la_nina_times_unbeach, 'la nina', np.where(el_nino_times_unbeach, 'el nino', 'none'))"
   ]
  },
  {
   "cell_type": "code",
   "execution_count": 217,
   "id": "2139df54-db8b-4882-b47d-e87ddef9d4f6",
   "metadata": {},
   "outputs": [],
   "source": [
    "# let's save this to a csv:\n",
    "beach.to_csv('ENSO_beach.csv', index=False) # save to csv\n",
    "unbeach.to_csv('ENSO_unbeach.csv', index=False) # save to csv"
   ]
  },
  {
   "cell_type": "code",
   "execution_count": null,
   "id": "2476f77e-271b-4939-9802-afd9c42dacbc",
   "metadata": {},
   "outputs": [],
   "source": []
  }
 ],
 "metadata": {
  "kernelspec": {
   "display_name": "Python 3",
   "language": "python",
   "name": "python3"
  },
  "language_info": {
   "codemirror_mode": {
    "name": "ipython",
    "version": 3
   },
   "file_extension": ".py",
   "mimetype": "text/x-python",
   "name": "python",
   "nbconvert_exporter": "python",
   "pygments_lexer": "ipython3",
   "version": "3.7.6"
  }
 },
 "nbformat": 4,
 "nbformat_minor": 5
}
