{
 "cells": [
  {
   "cell_type": "markdown",
   "id": "12e6fc29-cab9-4fa3-a929-905a4db128fc",
   "metadata": {},
   "source": [
    "# This notebook:\n",
    "### plots beaching probability for the entire ocean with contours with temporal ENSO state contrast"
   ]
  },
  {
   "cell_type": "code",
   "execution_count": 1,
   "id": "b7ebe174-f105-4c90-a56c-44b144dd29ff",
   "metadata": {},
   "outputs": [],
   "source": [
    "# set working directory\n",
    "import os\n",
    "os.chdir('/dat1/openonic/Drifters') # directory"
   ]
  },
  {
   "cell_type": "code",
   "execution_count": 2,
   "id": "ca39c244-862a-4db8-a1aa-81121887a5a6",
   "metadata": {},
   "outputs": [],
   "source": [
    "# dependencies\n",
    "import pandas as pd\n",
    "import scipy.interpolate as sci_int\n",
    "import numpy as np\n",
    "import matplotlib.pyplot as plt\n",
    "import scipy.stats as sci_stats\n",
    "import cartopy.crs as ccrs\n",
    "import geopandas as gpd\n",
    "\n",
    "import matplotlib.colors as mcolors\n",
    "plt.rcParams.update({'font.size': 18})\n",
    "\n",
    "plt.rcParams['axes.titlesize'] = 24\n",
    "plt.rcParams['axes.labelsize'] = 22\n",
    "plt.rcParams['axes.labelsize'] = 22"
   ]
  },
  {
   "cell_type": "code",
   "execution_count": 3,
   "id": "7caf64a2-f090-426f-8faf-e8641ff52e52",
   "metadata": {},
   "outputs": [],
   "source": [
    "# import undrogued ENSO data\n",
    "beach = pd.read_csv('ENSO_beach.csv')\n",
    "unbeach = pd.read_csv('ENSO_unbeach.csv')"
   ]
  },
  {
   "cell_type": "code",
   "execution_count": 4,
   "id": "41b81f25-bfbc-4ab2-a8ac-97d9952e409f",
   "metadata": {},
   "outputs": [],
   "source": [
    "# working from the end of 'ENSO_classification.ipynb'\n",
    "# now, we consider the relative amount of time each drifter trajectory spends in the temporal el nino or la nina regimes. \n",
    "# If a drifter trajectory spends more than 80% of time in one regime or the other, we classify that drifter trajectory as an el nino or \n",
    "# la nina drifter trajectory, thus grouping our trajectories by temporal ENSO regime. If a drifter trajectory spends less than 80% of time \n",
    "# in either regime, then we classify that drifter trajectory as a 'mixed_ENSO' drifter trajectory"
   ]
  },
  {
   "cell_type": "code",
   "execution_count": 5,
   "id": "45511562-f865-4e97-b2ad-9700058e4010",
   "metadata": {},
   "outputs": [],
   "source": [
    "def classify_ENSO_trajectories(df, percent_parameter):\n",
    "    # Group by id and ENSO state to calculate the percent in each group\n",
    "    value_counts = df.groupby('id')['ENSO'].value_counts(normalize=True) * 100\n",
    "\n",
    "    # initialize lists\n",
    "    el_nino_traj = []\n",
    "    la_nina_traj = []\n",
    "    mixed_ENSO_traj = []\n",
    "\n",
    "    # iterate through unique ids\n",
    "    for ID in value_counts.index.get_level_values(0).unique():\n",
    "        \n",
    "        # get percent in el nino and la nina\n",
    "        percent_el_nino = value_counts.get((ID, 'el nino'), 0)\n",
    "        percent_la_nina = value_counts.get((ID, 'la nina'), 0)\n",
    "\n",
    "        # classify id based on percentages\n",
    "        if percent_el_nino >= percent_parameter:\n",
    "            el_nino_traj.append(ID)\n",
    "        elif percent_la_nina >= percent_parameter:\n",
    "            la_nina_traj.append(ID)\n",
    "        else:\n",
    "            mixed_ENSO_traj.append(ID)\n",
    "\n",
    "    return el_nino_traj, la_nina_traj, mixed_ENSO_traj"
   ]
  },
  {
   "cell_type": "code",
   "execution_count": 8,
   "id": "0cf17a38-6c81-4150-88cb-6c1abb539dff",
   "metadata": {},
   "outputs": [],
   "source": [
    "# 80 percent seems good\n",
    "percent_parameter = 80\n",
    "\n",
    "# beach\n",
    "el_nino_traj_beach, la_nina_traj_beach, mixed_ENSO_traj_beach = classify_ENSO_trajectories(beach, percent_parameter)\n",
    "\n",
    "# unbeach\n",
    "el_nino_traj_unbeach, la_nina_traj_unbeach, mixed_ENSO_traj_unbeach = classify_ENSO_trajectories(unbeach, percent_parameter)"
   ]
  },
  {
   "cell_type": "code",
   "execution_count": 15,
   "id": "b141106a-76d0-4b44-ad8b-480fec30cd48",
   "metadata": {},
   "outputs": [],
   "source": [
    "# Beach\n",
    "# Separate data into nino, nina, mixed based on ID\n",
    "beach_nino = beach[beach['id'].isin(el_nino_traj_beach)]\n",
    "beach_nina = beach[beach['id'].isin(la_nina_traj_beach)]\n",
    "beach_mixed = beach[beach['id'].isin(mixed_ENSO_traj_beach)]\n",
    "\n",
    "# Unbeach\n",
    "# Separate data into nino, nina, mixed based on ID\n",
    "unbeach_nino = unbeach[unbeach['id'].isin(el_nino_traj_unbeach)]\n",
    "unbeach_nina = unbeach[unbeach['id'].isin(la_nina_traj_unbeach)]\n",
    "unbeach_mixed = unbeach[unbeach['id'].isin(mixed_ENSO_traj_unbeach)]"
   ]
  },
  {
   "cell_type": "code",
   "execution_count": null,
   "id": "8060b017-570f-4bad-9e5d-209506b271cc",
   "metadata": {},
   "outputs": [],
   "source": []
  },
  {
   "cell_type": "code",
   "execution_count": null,
   "id": "8ac35eaf-57d0-4aa6-a604-a594ded6d2e5",
   "metadata": {},
   "outputs": [],
   "source": []
  }
 ],
 "metadata": {
  "kernelspec": {
   "display_name": "Python 3",
   "language": "python",
   "name": "python3"
  },
  "language_info": {
   "codemirror_mode": {
    "name": "ipython",
    "version": 3
   },
   "file_extension": ".py",
   "mimetype": "text/x-python",
   "name": "python",
   "nbconvert_exporter": "python",
   "pygments_lexer": "ipython3",
   "version": "3.7.6"
  }
 },
 "nbformat": 4,
 "nbformat_minor": 5
}
