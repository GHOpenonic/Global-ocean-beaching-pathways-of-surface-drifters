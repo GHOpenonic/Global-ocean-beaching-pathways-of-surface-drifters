{
 "cells": [
  {
   "cell_type": "markdown",
   "id": "c5efe4aa-695d-4d97-a9dc-bf8a05a4966b",
   "metadata": {},
   "source": [
    "This code works to 1. create a heatmap that shows the probability of beaching. High value areas represent high likelyhood of a drifter beaching if it were to 'start' there. 2."
   ]
  },
  {
   "cell_type": "code",
   "execution_count": 2,
   "id": "24950f1a-1973-4c6d-a94e-54f23b256ec6",
   "metadata": {},
   "outputs": [
    {
     "data": {
      "text/html": [
       "        <script type=\"text/javascript\">\n",
       "        window.PlotlyConfig = {MathJaxConfig: 'local'};\n",
       "        if (window.MathJax && window.MathJax.Hub && window.MathJax.Hub.Config) {window.MathJax.Hub.Config({SVG: {font: \"STIX-Web\"}});}\n",
       "        if (typeof require !== 'undefined') {\n",
       "        require.undef(\"plotly\");\n",
       "        requirejs.config({\n",
       "            paths: {\n",
       "                'plotly': ['https://cdn.plot.ly/plotly-2.26.0.min']\n",
       "            }\n",
       "        });\n",
       "        require(['plotly'], function(Plotly) {\n",
       "            window._Plotly = Plotly;\n",
       "        });\n",
       "        }\n",
       "        </script>\n",
       "        "
      ]
     },
     "metadata": {},
     "output_type": "display_data"
    }
   ],
   "source": [
    "# set working directory\n",
    "import os\n",
    "os.chdir('/dat1/openonic/Drifters')\n",
    "from plotly.offline import init_notebook_mode\n",
    "init_notebook_mode(connected=True)"
   ]
  },
  {
   "cell_type": "code",
   "execution_count": 63,
   "id": "1e49bcb0-af99-4d61-b049-ccaaa3318040",
   "metadata": {},
   "outputs": [],
   "source": [
    "# dependencies\n",
    "import pandas as pd\n",
    "import numpy as np\n",
    "import matplotlib.pyplot as plt\n",
    "import cartopy.crs as ccrs\n",
    "import cartopy.feature as cfeature\n",
    "import geopandas as gpd\n",
    "from shapely.geometry import Point"
   ]
  },
  {
   "cell_type": "code",
   "execution_count": 3,
   "id": "b00ec7d8-4d04-4e88-965f-82ac01247be9",
   "metadata": {
    "tags": []
   },
   "outputs": [],
   "source": [
    "# loading files\n",
    "metadata = pd.read_csv('drifter data/global drifter program/csv files/GDP_metadata.csv')\n",
    "runD = pd.read_csv('drifter data/global drifter program/csv files/GDP_RunAground_drouged.csv')\n",
    "runUnD = pd.read_csv('drifter data/global drifter program/csv files/GDP_RunAground_undrouged.csv')\n",
    "nRunD = pd.read_csv('GDP_NonRunAground_drouged-004.csv')\n",
    "nRunUnD = pd.read_csv('GDP_NonRunAground_undrouged-006.csv')"
   ]
  },
  {
   "cell_type": "code",
   "execution_count": 85,
   "id": "5a2c06ae-5858-47a8-9123-8593df878c31",
   "metadata": {},
   "outputs": [
    {
     "name": "stdout",
     "output_type": "stream",
     "text": [
      "runD: (14265865, 6)\n",
      "runUnD: (23068321, 6)\n",
      "nRunD: (51183961, 6)\n",
      "nRunUnD: (77236186, 6)\n",
      "metadata: (17324, 3)\n"
     ]
    }
   ],
   "source": [
    "# explore file shapes\n",
    "print('runD: ' + str(np.shape(runD))) # run aground drogued \n",
    "print('runUnD: ' + str(np.shape(runUnD))) # run aground undrogued\n",
    "print('nRunD: ' + str(np.shape(nRunD))) # not run aground drogued\n",
    "print('nRunUnD: ' + str(np.shape(nRunUnD))) # not run aground undrogued\n",
    "print('metadata: ' + str(np.shape(metadata))) # metadata"
   ]
  },
  {
   "cell_type": "code",
   "execution_count": 226,
   "id": "fad37984-1afc-4c09-bf4c-fc791e143b67",
   "metadata": {},
   "outputs": [],
   "source": [
    "RunD_starts = runD.drop_duplicates(subset='ID', keep='first') # drops all but the starting location\n",
    "nRunD_starts = nRunD.drop_duplicates(subset='ID', keep='first') # drops all but the starting location\n",
    "runUnD_starts = runUnD.drop_duplicates(subset='ID', keep='first')\n",
    "nRunUnD_starts = nRunUnD.drop_duplicates(subset='ID', keep='first')"
   ]
  },
  {
   "cell_type": "markdown",
   "id": "8e66bf1b-14e7-434d-9d73-35d607d4633b",
   "metadata": {},
   "source": [
    "#. ignores all that do not run aground near land\n",
    "for index, row in RunD_starts.iterrows():\n",
    "    point = Point(row['lon'], row['lat'])\n",
    "    \n",
    "    # Check if the point is near the coast by intersecting with the coastline geometries\n",
    "    near_coast = world['geometry'].intersects(point)\n",
    "    \n",
    "    if near_coast.any():"
   ]
  },
  {
   "cell_type": "code",
   "execution_count": 128,
   "id": "06e7b588-514b-4b36-b9ac-5170db43ec27",
   "metadata": {},
   "outputs": [],
   "source": []
  },
  {
   "cell_type": "code",
   "execution_count": 232,
   "id": "3304108e-b9bf-4ff1-a71a-57c360bd9ab2",
   "metadata": {},
   "outputs": [],
   "source": [
    "# get lats and lons separated and assigns value 1 to all that run aground and 0 to those that do not\n",
    "RunD_lats = np.array(RunD_starts['lat'])#.tolist()\n",
    "RunD_longs = np.array(RunD_starts['lon'])#.tolist()\n",
    "RunD_values = np.ones(len(RunD_starts))\n",
    "\n",
    "nRunD_lats = np.array(nRunD_starts['lat'])#.tolist()\n",
    "nRunD_longs = np.array(nRunD_starts['lon'])#.tolist()\n",
    "nRunD_values = np.zeros(len(nRunD_starts))\n",
    "\n",
    "runUnD_lats = np.array(runUnD_starts['lat'])\n",
    "runUnD_longs = np.array(runUnD_starts['lon'])\n",
    "runUnD_values = np.ones(len(runUnD_starts))\n",
    "\n",
    "nRunUnD_lats = np.array(nRunUnD_starts['lat'])\n",
    "nRunUnD_longs = np.array(nRunUnD_starts['lon'])\n",
    "nRunUnD_values = np.zeros(len(nRunUnD_starts))\n",
    "# bootstrap the data to reduce size\n",
    "#RunD_lats_boot = np.random.choice(RunD_lats, size=100, replace=False)\n",
    "#nRunD_starts_boot = np.random.choice(nRunD_starts, size=100000, replace=False)"
   ]
  },
  {
   "cell_type": "code",
   "execution_count": null,
   "id": "fd4dc158-4824-4eb4-971b-fb35a9a3733b",
   "metadata": {},
   "outputs": [],
   "source": []
  },
  {
   "cell_type": "code",
   "execution_count": 149,
   "id": "42cd23cf-5863-4722-9fd5-37e66dd31986",
   "metadata": {},
   "outputs": [],
   "source": []
  },
  {
   "cell_type": "code",
   "execution_count": null,
   "id": "47a30c4e-3e30-4db5-9adb-4a2069eef3fd",
   "metadata": {},
   "outputs": [],
   "source": []
  },
  {
   "cell_type": "raw",
   "id": "40a38069-e5e7-43fd-89a3-308ac2a4004a",
   "metadata": {},
   "source": [
    "# vectorized operations\n",
    "\n",
    "# Load the world shapefile from GeoPandas\n",
    "world = gpd.read_file(gpd.datasets.get_path('naturalearth_lowres'))\n",
    "\n",
    "# Create Point geometries for all data points\n",
    "points = [Point(lon, lat) for lon, lat in zip(lons, lats)]\n",
    "\n",
    "# Convert the points into a GeoSeries for efficient spatial operations\n",
    "points = gpd.GeoSeries(points)\n",
    "\n",
    "# Use spatial operations to check if the points are over land (coastlines)\n",
    "valid_mask = ~points.intersects(world.unary_union)\n",
    "\n",
    "# Convert the data to NumPy arrays\n",
    "lats = np.array(lats)\n",
    "lons = np.array(lons)\n",
    "values = np.array(values)\n",
    "\n",
    "# Filter the valid data points and values using NumPy arrays\n",
    "valid_lats = lats[valid_mask]\n",
    "valid_lons = lons[valid_mask]\n",
    "valid_values = values[valid_mask]\n"
   ]
  },
  {
   "cell_type": "code",
   "execution_count": 233,
   "id": "b862d27f-9801-4ae7-b2ea-044ea7f71de7",
   "metadata": {},
   "outputs": [],
   "source": [
    "lats = np.concatenate((RunD_lats, runUnD_lats, nRunD_lats, nRunUnD_lats))\n",
    "longs = np.concatenate((RunD_longs, runUnD_longs, nRunD_longs, nRunUnD_longs))\n",
    "values = np.concatenate((RunD_values, runUnD_values, nRunD_values, nRunUnD_values))"
   ]
  },
  {
   "cell_type": "code",
   "execution_count": 234,
   "id": "2e16da14-8259-4742-b7ee-646544cbd474",
   "metadata": {},
   "outputs": [],
   "source": [
    "# Load the world shapefile from GeoPandas\n",
    "world = gpd.read_file(gpd.datasets.get_path('naturalearth_lowres'))\n",
    "\n",
    "valid_lats = []\n",
    "valid_lons = []\n",
    "valid_values = []\n",
    "\n",
    "for lat, lon, value in zip(lats, longs, values):\n",
    "    # Create a Point geometry for each latitude and longitude\n",
    "    point = Point(lon, lat)\n",
    "    \n",
    "    # Check if the point is over land (coastlines)\n",
    "    if not any(world['geometry'].intersects(point)):\n",
    "        valid_lats.append(lat)\n",
    "        valid_lons.append(lon)\n",
    "        valid_values.append(value)"
   ]
  },
  {
   "cell_type": "code",
   "execution_count": null,
   "id": "d5a3cdc4-279c-40e3-ba9d-74554ed8c3ba",
   "metadata": {},
   "outputs": [],
   "source": []
  },
  {
   "cell_type": "code",
   "execution_count": 241,
   "id": "0d979419-52cc-448f-ac78-f9009385f524",
   "metadata": {},
   "outputs": [],
   "source": [
    "# Define the grid for the heatmap\n",
    "n_lons, n_lats = 90, 45 # Define the number of grid cells\n",
    "lon_bins = np.linspace(-180, 180, n_lons + 1)\n",
    "lat_bins = np.linspace(-90, 90, n_lats + 1)\n",
    "\n",
    "heatmap_data = np.full((n_lats, n_lons), np.nan)\n",
    "for i in range(n_lats):\n",
    "    for j in range(n_lons):\n",
    "        mask = ((valid_lats >= lat_bins[i]) & (valid_lats <= lat_bins[i+1]) &\n",
    "                (valid_lons >= lon_bins[j]) & (valid_lons <= lon_bins[j+1]))\n",
    "        if np.any(mask):\n",
    "            heatmap_data[i, j] = np.mean(np.array(valid_values)[mask])\n"
   ]
  },
  {
   "cell_type": "code",
   "execution_count": 242,
   "id": "6ee6227e-47ac-47cb-a732-5c094cd60da0",
   "metadata": {},
   "outputs": [
    {
     "name": "stderr",
     "output_type": "stream",
     "text": [
      "/usr/local/anaconda3/lib/python3.7/site-packages/ipykernel_launcher.py:7: MatplotlibDeprecationWarning:\n",
      "\n",
      "You are modifying the state of a globally registered colormap. This has been deprecated since 3.3 and in 3.6, you will not be able to modify a registered colormap in-place. To remove this warning, you can make a copy of the colormap first. cmap = mpl.cm.get_cmap(\"inferno\").copy()\n",
      "\n"
     ]
    },
    {
     "data": {
      "image/png": "[encoded data removed]",
      "text/plain": [
       "<Figure size 1584x864 with 2 Axes>"
      ]
     },
     "metadata": {
      "needs_background": "light"
     },
     "output_type": "display_data"
    }
   ],
   "source": [
    "fig = plt.figure(figsize=(22, 12))\n",
    "ax = plt.axes(projection=ccrs.PlateCarree())\n",
    "ax.set_extent([-180, 180, -90, 90], crs=ccrs.PlateCarree())\n",
    "ax.coastlines()  # setting up coastlines\n",
    "\n",
    "cmap = plt.get_cmap('inferno')\n",
    "cmap.set_bad('white')\n",
    "\n",
    "lon_centers = (lon_bins[1:] + lon_bins[:-1]) / 2\n",
    "lat_centers = (lat_bins[1:] + lat_bins[:-1]) / 2\n",
    "\n",
    "lon_centers = (lon_bins[1:] + lon_bins[:-1]) / 2\n",
    "lat_centers = (lat_bins[1:] + lat_bins[:-1]) / 2\n",
    "mesh = ax.pcolormesh(lon_centers, lat_centers, heatmap_data, cmap = cmap,\n",
    "                     transform=ccrs.PlateCarree())\n",
    "plt.colorbar(mesh, label='Average Values')\n",
    "\n",
    "\n",
    "plt.show()"
   ]
  },
  {
   "cell_type": "code",
   "execution_count": null,
   "id": "f9a89b95-492b-4fe4-b895-f51462656feb",
   "metadata": {},
   "outputs": [],
   "source": []
  },
  {
   "cell_type": "code",
   "execution_count": null,
   "id": "63d9649c-a59f-4cb1-8b88-c244542ff61d",
   "metadata": {},
   "outputs": [],
   "source": []
  },
  {
   "cell_type": "code",
   "execution_count": null,
   "id": "ac762e4f-acf2-4228-b61e-543978882dd7",
   "metadata": {},
   "outputs": [],
   "source": []
  },
  {
   "cell_type": "code",
   "execution_count": null,
   "id": "d80bcd0c-543b-44d9-bb2e-c09ec812ca90",
   "metadata": {},
   "outputs": [],
   "source": []
  },
  {
   "cell_type": "code",
   "execution_count": null,
   "id": "dd1426cf-c5cd-405b-91da-2ca9c11412cc",
   "metadata": {},
   "outputs": [],
   "source": []
  }
 ],
 "metadata": {
  "kernelspec": {
   "display_name": "Python 3",
   "language": "python",
   "name": "python3"
  },
  "language_info": {
   "codemirror_mode": {
    "name": "ipython",
    "version": 3
   },
   "file_extension": ".py",
   "mimetype": "text/x-python",
   "name": "python",
   "nbconvert_exporter": "python",
   "pygments_lexer": "ipython3",
   "version": "3.7.6"
  }
 },
 "nbformat": 4,
 "nbformat_minor": 5
}
